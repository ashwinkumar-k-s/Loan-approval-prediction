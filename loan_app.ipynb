{
 "cells": [
  {
   "cell_type": "markdown",
   "id": "34e183c5-4996-4b3d-91b5-bd61edbcb6fa",
   "metadata": {},
   "source": [
    "## Importing Necessary Libraries\n",
    "\n",
    "Importing the essential libraries to build the **Streamlit** web application, load the trained models, connect to a database, and handle data.\n",
    "\n",
    "---\n",
    "\n",
    "### Libraries Used:\n",
    "\n",
    "1. **`streamlit` (as `st`):**  \n",
    "   Streamlit is used to build interactive web applications for machine learning models. It allows easy integration of machine learning models and real-time prediction.\n",
    "\n",
    "2. **`numpy` (as `np`):**  \n",
    "   Numpy is a fundamental library for numerical computing in Python. It is often used for handling arrays and mathematical operations.\n",
    "\n",
    "3. **`joblib`:**  \n",
    "   Joblib is used to load the pre-trained models saved earlier as `.pkl` files. It allows for efficient model loading and saving.\n",
    "\n",
    "4. **`sqlite3`:**  \n",
    "   SQLite3 is used to connect to SQLite databases, allowing for easy storage and retrieval of data in the app.\n",
    "\n",
    "5. **`pandas` (as `pd`):**  \n",
    "   Pandas is used for data manipulation and analysis, making it easy to handle tabular data (e.g., CSV files, SQL queries).\n"
   ]
  },
  {
   "cell_type": "code",
   "execution_count": 1,
   "id": "fd2d1d2b-3c89-4d02-98c9-e8753207b483",
   "metadata": {},
   "outputs": [],
   "source": [
    "import streamlit as st\n",
    "import numpy as np\n",
    "import joblib\n",
    "import sqlite3\n",
    "import pandas as pd"
   ]
  },
  {
   "cell_type": "markdown",
   "id": "01c74795-db14-43e8-af9b-6a3c994e8b07",
   "metadata": {},
   "source": [
    "##  Load Trained Models and Scaler\n",
    "\n",
    "To make real-time predictions, we need to load the pre-trained machine learning models and the scaler that were saved earlier. This allows us to apply the trained models to new data.\n",
    "\n",
    "---  \n",
    "This code loads the saved models and scaler from disk using `joblib`. These pre-trained models are then ready to be used for predictions in the Streamlit app.\n",
    "\n",
    "---"
   ]
  },
  {
   "cell_type": "code",
   "execution_count": 2,
   "id": "754edd60-6c79-43af-bd85-b89a5058d4de",
   "metadata": {},
   "outputs": [],
   "source": [
    "# Load trained models and scaler\n",
    "lr_model = joblib.load(r\"D:\\loan_approval_pred\\ml_model\\lr_model.pkl\")\n",
    "dt_model = joblib.load(r\"D:\\loan_approval_pred\\ml_model\\dtree_model.pkl\")\n",
    "rf_model = joblib.load(r\"D:\\loan_approval_pred\\ml_model\\rf_model.pkl\")\n",
    "scaler = joblib.load(r\"D:\\loan_approval_pred\\ml_model\\scaler.pkl\")"
   ]
  },
  {
   "cell_type": "markdown",
   "id": "455bea82-5605-4fa4-89d3-ccceb052643f",
   "metadata": {},
   "source": [
    "##  SQLite3 Setup\n",
    "\n",
    "This code sets up the connection to an SQLite database (`loan_predictions.db`) and creates a cursor object to interact with the database.\n",
    "\n",
    "---\n",
    "\n",
    "1. **Establish Connection (`conn`):**  \n",
    "   The `sqlite3.connect()` function is used to connect to the SQLite database. If the database does not exist, it will be created in the current working directory.\n",
    "\n",
    "2. **Create Cursor (`cursor`):**  \n",
    "   The `cursor()` method creates a cursor object that allows us to execute SQL commands (e.g., SELECT, INSERT) and interact with the database.\n"
   ]
  },
  {
   "cell_type": "code",
   "execution_count": 3,
   "id": "934ac8d4-33bd-4a75-9fef-16093ca4167d",
   "metadata": {},
   "outputs": [],
   "source": [
    "# SQLite3 setup\n",
    "conn = sqlite3.connect('loan_predictions.db')\n",
    "cursor = conn.cursor()"
   ]
  },
  {
   "cell_type": "markdown",
   "id": "d670d978-b586-409a-8535-52138c830a4b",
   "metadata": {},
   "source": [
    "##  Create Table if It Doesn't Exist\n",
    "  This code creates a table called `LoanApplications` in the SQLite database (`loan_predictions.db`) if it does not already exist. The table will store the necessary features for each loan application, along with the predicted loan status.\n",
    "\n",
    "---\n",
    "\n",
    "### Table Structure:\n",
    "\n",
    "1. **`id` (INTEGER PRIMARY KEY AUTOINCREMENT):**  \n",
    "   A unique identifier for each loan application. This field will automatically increment as new records are inserted.\n",
    "\n",
    "2. **`cibil_score` (REAL):**  \n",
    "   The CIBIL score of the applicant (a numeric value).\n",
    "\n",
    "3. **`loan_term` (INTEGER):**  \n",
    "   The duration of the loan (in years or months, depending on the input).\n",
    "\n",
    "4. **`income_annum` (REAL):**  \n",
    "   The applicant’s annual income (numeric value).\n",
    "\n",
    "5. **`no_of_dependents` (INTEGER):**  \n",
    "   The number of dependents of the loan applicant.\n",
    "\n",
    "6. **`loan_amount` (REAL):**  \n",
    "   The total loan amount being requested.\n",
    "\n",
    "7. **`luxury_assets_value` (REAL):**  \n",
    "   The value of luxury assets owned by the applicant (if applicable).\n",
    "\n",
    "8. **`predicted_status` (TEXT):**  \n",
    "   The predicted loan approval status, which will be either \"Approved\" or \"Rejected\" (this will be filled after model predictions)."
   ]
  },
  {
   "cell_type": "code",
   "execution_count": 4,
   "id": "82593404-740a-4339-8edc-85f31dbdc573",
   "metadata": {},
   "outputs": [],
   "source": [
    "# Create table if it doesn't exist\n",
    "cursor.execute(\"\"\"\n",
    "CREATE TABLE IF NOT EXISTS LoanApplications (\n",
    "    id INTEGER PRIMARY KEY AUTOINCREMENT,\n",
    "    cibil_score REAL,\n",
    "    loan_term INTEGER,\n",
    "    income_annum REAL,\n",
    "    no_of_dependents INTEGER,\n",
    "    loan_amount REAL,\n",
    "    luxury_assets_value REAL,\n",
    "    predicted_status TEXT\n",
    ")\n",
    "\"\"\")\n",
    "conn.commit()"
   ]
  },
  {
   "cell_type": "markdown",
   "id": "3c066442-8ee5-4e91-a9bf-b1936636f531",
   "metadata": {},
   "source": [
    "##  Streamlit Page Configuration and Title\n",
    "\n",
    "This step configures the layout and title of the Streamlit web application, providing the user with a clean and intuitive interface for input.\n",
    "\n",
    "---\n",
    "\n",
    "### Steps:\n",
    "\n",
    "1. **Set Page Configuration (`st.set_page_config()`):**  \n",
    "   The `set_page_config()` function sets the page title and layout. \n",
    "   - `page_title=\"Loan Approval Predictor\"` sets the title that appears in the browser tab.\n",
    "   - `layout=\"centered\"` ensures that the app content is centered on the page, providing a neat and user-friendly appearance.\n",
    "\n",
    "2. **Set Title (`st.title()`):**  \n",
    "   The `st.title()` function displays the title of the app on the page. In this case, it is set to **\"Loan Approval Prediction App\"**.\n",
    "\n",
    "3. **Write Instructions (`st.write()`):**  \n",
    "   The `st.write()` function is used to display additional text. Here, it prompts the user to enter their loan application details below the title."
   ]
  },
  {
   "cell_type": "code",
   "execution_count": 5,
   "id": "dedc12cd-02d8-4967-9f3a-f85cab1b3dca",
   "metadata": {},
   "outputs": [
    {
     "name": "stderr",
     "output_type": "stream",
     "text": [
      "2025-04-20 12:22:21.876 WARNING streamlit.runtime.scriptrunner_utils.script_run_context: Thread 'MainThread': missing ScriptRunContext! This warning can be ignored when running in bare mode.\n",
      "2025-04-20 12:22:21.877 WARNING streamlit.runtime.scriptrunner_utils.script_run_context: Thread 'MainThread': missing ScriptRunContext! This warning can be ignored when running in bare mode.\n",
      "2025-04-20 12:22:22.448 \n",
      "  \u001b[33m\u001b[1mWarning:\u001b[0m to view this Streamlit app on a browser, run it with the following\n",
      "  command:\n",
      "\n",
      "    streamlit run D:\\python\\Lib\\site-packages\\ipykernel_launcher.py [ARGUMENTS]\n",
      "2025-04-20 12:22:22.449 Thread 'MainThread': missing ScriptRunContext! This warning can be ignored when running in bare mode.\n",
      "2025-04-20 12:22:22.450 Thread 'MainThread': missing ScriptRunContext! This warning can be ignored when running in bare mode.\n",
      "2025-04-20 12:22:22.451 Thread 'MainThread': missing ScriptRunContext! This warning can be ignored when running in bare mode.\n",
      "2025-04-20 12:22:22.452 Thread 'MainThread': missing ScriptRunContext! This warning can be ignored when running in bare mode.\n",
      "2025-04-20 12:22:22.452 Thread 'MainThread': missing ScriptRunContext! This warning can be ignored when running in bare mode.\n"
     ]
    }
   ],
   "source": [
    "st.set_page_config(page_title=\"Loan Approval Predictor\", layout=\"centered\")\n",
    "st.title(\"Loan Approval Prediction App\")\n",
    "st.write(\"Enter your loan application details below:\")"
   ]
  },
  {
   "cell_type": "markdown",
   "id": "46574c7f-c36e-4502-a8a6-35cd58f67030",
   "metadata": {},
   "source": [
    "##  User Input Collection\n",
    "\n",
    "This step gathers the necessary input from the user via a series of form fields to predict loan approval based on their application details.\n",
    "\n",
    "--- \n",
    "This code creates input fields for the user to provide their loan application details, which will be used for predictions. The inputs include numeric and categorical values like the CIBIL score, loan amount, marital status, etc."
   ]
  },
  {
   "cell_type": "code",
   "execution_count": 6,
   "id": "8de60e0b-5e84-4f2d-99da-b4b7305deb24",
   "metadata": {},
   "outputs": [
    {
     "name": "stderr",
     "output_type": "stream",
     "text": [
      "2025-04-20 12:24:11.130 Thread 'MainThread': missing ScriptRunContext! This warning can be ignored when running in bare mode.\n",
      "2025-04-20 12:24:11.131 Thread 'MainThread': missing ScriptRunContext! This warning can be ignored when running in bare mode.\n",
      "2025-04-20 12:24:11.132 Thread 'MainThread': missing ScriptRunContext! This warning can be ignored when running in bare mode.\n",
      "2025-04-20 12:24:11.133 Thread 'MainThread': missing ScriptRunContext! This warning can be ignored when running in bare mode.\n",
      "2025-04-20 12:24:11.133 Session state does not function when running a script without `streamlit run`\n",
      "2025-04-20 12:24:11.134 Thread 'MainThread': missing ScriptRunContext! This warning can be ignored when running in bare mode.\n",
      "2025-04-20 12:24:11.135 Thread 'MainThread': missing ScriptRunContext! This warning can be ignored when running in bare mode.\n",
      "2025-04-20 12:24:11.135 Thread 'MainThread': missing ScriptRunContext! This warning can be ignored when running in bare mode.\n",
      "2025-04-20 12:24:11.136 Thread 'MainThread': missing ScriptRunContext! This warning can be ignored when running in bare mode.\n",
      "2025-04-20 12:24:11.136 Thread 'MainThread': missing ScriptRunContext! This warning can be ignored when running in bare mode.\n",
      "2025-04-20 12:24:11.136 Thread 'MainThread': missing ScriptRunContext! This warning can be ignored when running in bare mode.\n",
      "2025-04-20 12:24:11.137 Thread 'MainThread': missing ScriptRunContext! This warning can be ignored when running in bare mode.\n",
      "2025-04-20 12:24:11.137 Thread 'MainThread': missing ScriptRunContext! This warning can be ignored when running in bare mode.\n",
      "2025-04-20 12:24:11.138 Thread 'MainThread': missing ScriptRunContext! This warning can be ignored when running in bare mode.\n",
      "2025-04-20 12:24:11.138 Thread 'MainThread': missing ScriptRunContext! This warning can be ignored when running in bare mode.\n",
      "2025-04-20 12:24:11.138 Thread 'MainThread': missing ScriptRunContext! This warning can be ignored when running in bare mode.\n",
      "2025-04-20 12:24:11.139 Thread 'MainThread': missing ScriptRunContext! This warning can be ignored when running in bare mode.\n",
      "2025-04-20 12:24:11.139 Thread 'MainThread': missing ScriptRunContext! This warning can be ignored when running in bare mode.\n",
      "2025-04-20 12:24:11.139 Thread 'MainThread': missing ScriptRunContext! This warning can be ignored when running in bare mode.\n",
      "2025-04-20 12:24:11.140 Thread 'MainThread': missing ScriptRunContext! This warning can be ignored when running in bare mode.\n",
      "2025-04-20 12:24:11.140 Thread 'MainThread': missing ScriptRunContext! This warning can be ignored when running in bare mode.\n",
      "2025-04-20 12:24:11.141 Thread 'MainThread': missing ScriptRunContext! This warning can be ignored when running in bare mode.\n",
      "2025-04-20 12:24:11.141 Thread 'MainThread': missing ScriptRunContext! This warning can be ignored when running in bare mode.\n",
      "2025-04-20 12:24:11.141 Thread 'MainThread': missing ScriptRunContext! This warning can be ignored when running in bare mode.\n",
      "2025-04-20 12:24:11.142 Thread 'MainThread': missing ScriptRunContext! This warning can be ignored when running in bare mode.\n",
      "2025-04-20 12:24:11.142 Thread 'MainThread': missing ScriptRunContext! This warning can be ignored when running in bare mode.\n",
      "2025-04-20 12:24:11.143 Thread 'MainThread': missing ScriptRunContext! This warning can be ignored when running in bare mode.\n",
      "2025-04-20 12:24:11.143 Thread 'MainThread': missing ScriptRunContext! This warning can be ignored when running in bare mode.\n",
      "2025-04-20 12:24:11.143 Thread 'MainThread': missing ScriptRunContext! This warning can be ignored when running in bare mode.\n",
      "2025-04-20 12:24:11.143 Thread 'MainThread': missing ScriptRunContext! This warning can be ignored when running in bare mode.\n",
      "2025-04-20 12:24:11.144 Thread 'MainThread': missing ScriptRunContext! This warning can be ignored when running in bare mode.\n",
      "2025-04-20 12:24:11.144 Thread 'MainThread': missing ScriptRunContext! This warning can be ignored when running in bare mode.\n",
      "2025-04-20 12:24:11.144 Thread 'MainThread': missing ScriptRunContext! This warning can be ignored when running in bare mode.\n",
      "2025-04-20 12:24:11.145 Thread 'MainThread': missing ScriptRunContext! This warning can be ignored when running in bare mode.\n",
      "2025-04-20 12:24:11.145 Thread 'MainThread': missing ScriptRunContext! This warning can be ignored when running in bare mode.\n",
      "2025-04-20 12:24:11.145 Thread 'MainThread': missing ScriptRunContext! This warning can be ignored when running in bare mode.\n",
      "2025-04-20 12:24:11.146 Thread 'MainThread': missing ScriptRunContext! This warning can be ignored when running in bare mode.\n",
      "2025-04-20 12:24:11.146 Thread 'MainThread': missing ScriptRunContext! This warning can be ignored when running in bare mode.\n",
      "2025-04-20 12:24:11.146 Thread 'MainThread': missing ScriptRunContext! This warning can be ignored when running in bare mode.\n",
      "2025-04-20 12:24:11.147 Thread 'MainThread': missing ScriptRunContext! This warning can be ignored when running in bare mode.\n",
      "2025-04-20 12:24:11.147 Thread 'MainThread': missing ScriptRunContext! This warning can be ignored when running in bare mode.\n",
      "2025-04-20 12:24:11.148 Thread 'MainThread': missing ScriptRunContext! This warning can be ignored when running in bare mode.\n",
      "2025-04-20 12:24:11.148 Thread 'MainThread': missing ScriptRunContext! This warning can be ignored when running in bare mode.\n",
      "2025-04-20 12:24:11.148 Thread 'MainThread': missing ScriptRunContext! This warning can be ignored when running in bare mode.\n",
      "2025-04-20 12:24:11.149 Thread 'MainThread': missing ScriptRunContext! This warning can be ignored when running in bare mode.\n",
      "2025-04-20 12:24:11.149 Thread 'MainThread': missing ScriptRunContext! This warning can be ignored when running in bare mode.\n",
      "2025-04-20 12:24:11.149 Thread 'MainThread': missing ScriptRunContext! This warning can be ignored when running in bare mode.\n",
      "2025-04-20 12:24:11.150 Thread 'MainThread': missing ScriptRunContext! This warning can be ignored when running in bare mode.\n",
      "2025-04-20 12:24:11.150 Thread 'MainThread': missing ScriptRunContext! This warning can be ignored when running in bare mode.\n",
      "2025-04-20 12:24:11.150 Thread 'MainThread': missing ScriptRunContext! This warning can be ignored when running in bare mode.\n",
      "2025-04-20 12:24:11.151 Thread 'MainThread': missing ScriptRunContext! This warning can be ignored when running in bare mode.\n",
      "2025-04-20 12:24:11.151 Thread 'MainThread': missing ScriptRunContext! This warning can be ignored when running in bare mode.\n",
      "2025-04-20 12:24:11.151 Thread 'MainThread': missing ScriptRunContext! This warning can be ignored when running in bare mode.\n",
      "2025-04-20 12:24:11.152 Thread 'MainThread': missing ScriptRunContext! This warning can be ignored when running in bare mode.\n",
      "2025-04-20 12:24:11.152 Thread 'MainThread': missing ScriptRunContext! This warning can be ignored when running in bare mode.\n",
      "2025-04-20 12:24:11.152 Thread 'MainThread': missing ScriptRunContext! This warning can be ignored when running in bare mode.\n",
      "2025-04-20 12:24:11.153 Thread 'MainThread': missing ScriptRunContext! This warning can be ignored when running in bare mode.\n",
      "2025-04-20 12:24:11.153 Thread 'MainThread': missing ScriptRunContext! This warning can be ignored when running in bare mode.\n",
      "2025-04-20 12:24:11.153 Thread 'MainThread': missing ScriptRunContext! This warning can be ignored when running in bare mode.\n",
      "2025-04-20 12:24:11.154 Thread 'MainThread': missing ScriptRunContext! This warning can be ignored when running in bare mode.\n",
      "2025-04-20 12:24:11.154 Thread 'MainThread': missing ScriptRunContext! This warning can be ignored when running in bare mode.\n"
     ]
    }
   ],
   "source": [
    "# User input\n",
    "cibil_score = st.number_input(\"CIBIL Score\", min_value=0.0, max_value=900.0, value=750.0)\n",
    "loan_term = st.number_input(\"Loan Term (Months)\", min_value=1, max_value=360, value=60)\n",
    "income_annum = st.number_input(\"Annual Income (₹)\", min_value=0.0, value=500000.0)\n",
    "no_of_dependents = st.number_input(\"Number of Dependents\", min_value=0, max_value=10, value=1)\n",
    "loan_amount = st.number_input(\"Loan Amount (₹)\", min_value=0.0, value=300000.0)\n",
    "luxury_assets_value = st.number_input(\"Luxury Assets Value (₹)\", min_value=0.0, value=1000000.0)\n",
    "gender = st.selectbox(\"Gender (1-Male,0-Female)\", [1,0])\n",
    "married = st.selectbox(\"Married (1-Yes, 0-No)\", [1,0])\n",
    "education = st.selectbox(\"Education(College Graduate)(1-Yes, 0-No)\", [1,0])\n",
    "self_employed = st.selectbox(\"Self Employed (1-Yes, 0-No)\", [1,0])"
   ]
  },
  {
   "cell_type": "markdown",
   "id": "8dde36d9-251f-4ae3-8146-55d6c50a865a",
   "metadata": {},
   "source": [
    "## Loan Prediction and Result Display\n",
    "\n",
    "---\n",
    "This code predicts whether a loan will be approved or rejected based on the user-provided input and displays the results. It also saves the prediction details into an SQLite database.\n",
    "\n",
    "---"
   ]
  },
  {
   "cell_type": "code",
   "execution_count": 7,
   "id": "5fc629c8-59a9-415d-8f1b-ebbc679266c2",
   "metadata": {},
   "outputs": [
    {
     "name": "stderr",
     "output_type": "stream",
     "text": [
      "2025-04-20 12:27:15.667 Thread 'MainThread': missing ScriptRunContext! This warning can be ignored when running in bare mode.\n",
      "2025-04-20 12:27:15.667 Thread 'MainThread': missing ScriptRunContext! This warning can be ignored when running in bare mode.\n",
      "2025-04-20 12:27:15.668 Thread 'MainThread': missing ScriptRunContext! This warning can be ignored when running in bare mode.\n",
      "2025-04-20 12:27:15.669 Thread 'MainThread': missing ScriptRunContext! This warning can be ignored when running in bare mode.\n",
      "2025-04-20 12:27:15.669 Thread 'MainThread': missing ScriptRunContext! This warning can be ignored when running in bare mode.\n"
     ]
    }
   ],
   "source": [
    "if st.button(\"Predict Loan Status\"):\n",
    "    # Prepare the full 10-feature input\n",
    "    input_data = np.array([[no_of_dependents, income_annum, loan_amount, loan_term, cibil_score, luxury_assets_value,\n",
    "                            gender, married, education, self_employed]])\n",
    "\n",
    "    # Scale all 10 inputs (as expected by your scaler)\n",
    "    scaled_input = scaler.transform(input_data)\n",
    "\n",
    "    # Slice only the first 6 features for models that were trained on 6 inputs\n",
    "    scaled_input_for_model = scaled_input[:, :6]\n",
    "\n",
    "    # Predictions\n",
    "    lr_pred = lr_model.predict(scaled_input[:, :6])[0]\n",
    "    dt_pred = dt_model.predict(scaled_input[:, :6])[0]\n",
    "    rf_pred = rf_model.predict(scaled_input[:, :6])[0]\n",
    "\n",
    "\n",
    "    # Majority vote logic\n",
    "    votes = [lr_pred, dt_pred, rf_pred].count(1)\n",
    "    final_status = \"Approved\" if votes >= 2 else \"Rejected\"\n",
    "\n",
    "    # Show result to user\n",
    "    st.subheader(\"Prediction Results:\")\n",
    "    st.write(f\"Logistic Regression: {' Approved' if lr_pred == 1 else ' Rejected'}\")\n",
    "    st.write(f\"Decision Tree: {' Approved' if dt_pred == 1 else ' Rejected'}\")\n",
    "    st.write(f\"Random Forest: {' Approved' if rf_pred == 1 else ' Rejected'}\")\n",
    "\n",
    "    if final_status == \"Approved\":\n",
    "        st.success(f\" Majority Decision: Loan {final_status}!\")\n",
    "    else:\n",
    "        st.error(f\" Majority Decision: Loan {final_status}.\")\n",
    "\n",
    "    # Insert prediction into SQLite\n",
    "    cursor.execute(\"\"\"\n",
    "    INSERT INTO LoanApplications (cibil_score, loan_term, income_annum, no_of_dependents, loan_amount, luxury_assets_value, predicted_status)\n",
    "    VALUES (?, ?, ?, ?, ?, ?, ?)\n",
    "    \"\"\", (cibil_score, loan_term, income_annum, no_of_dependents, loan_amount, luxury_assets_value, final_status))\n",
    "    conn.commit()\n",
    "\n",
    "    st.info(\" Application data saved to database.\")\n"
   ]
  },
  {
   "cell_type": "markdown",
   "id": "7de590cc-a549-47d5-859d-8c5a8b97d3d1",
   "metadata": {},
   "source": [
    "##  Viewing and Exporting Saved Loan Predictions\n",
    "\n",
    "This section allows users to review past loan predictions and export the data for external use.\n",
    "\n",
    "---\n",
    "\n",
    "### 🔍 **View Previous Predictions**  \n",
    "  When the \"Show Saved Applications\" button is clicked from the sidebar, this block fetches all records from the `LoanApplications` table in the SQLite database.\n",
    "- **Functionality:**  \n",
    "  - The saved loan applications are displayed in the sidebar.\n",
    "  - The most recent applications appear at the top (`ORDER BY id DESC`).\n",
    "\n",
    "---\n",
    "\n",
    "### 📤 **Export Predictions to Excel**  \n",
    "  Allows users to export the full list of loan predictions to an Excel file for reporting or analysis.\n",
    "- **Functionality:**  \n",
    "  - When the \"Export to Excel\" button is pressed, the application reads all data from the `LoanApplications` table into a pandas DataFrame.\n",
    "  - The data is saved as an Excel file named `LoanApplications.xlsx` in the working directory.\n",
    "  - After saving, a success message is shown in the sidebar.\n",
    "\n"
   ]
  },
  {
   "cell_type": "code",
   "execution_count": 8,
   "id": "f5cccac1-da18-42d3-9486-1efbec1733f0",
   "metadata": {},
   "outputs": [
    {
     "name": "stderr",
     "output_type": "stream",
     "text": [
      "2025-04-20 12:28:43.827 Thread 'MainThread': missing ScriptRunContext! This warning can be ignored when running in bare mode.\n",
      "2025-04-20 12:28:43.828 Thread 'MainThread': missing ScriptRunContext! This warning can be ignored when running in bare mode.\n",
      "2025-04-20 12:28:43.828 Thread 'MainThread': missing ScriptRunContext! This warning can be ignored when running in bare mode.\n",
      "2025-04-20 12:28:43.828 Thread 'MainThread': missing ScriptRunContext! This warning can be ignored when running in bare mode.\n",
      "2025-04-20 12:28:43.829 Thread 'MainThread': missing ScriptRunContext! This warning can be ignored when running in bare mode.\n",
      "2025-04-20 12:28:43.829 Thread 'MainThread': missing ScriptRunContext! This warning can be ignored when running in bare mode.\n",
      "2025-04-20 12:28:43.830 Thread 'MainThread': missing ScriptRunContext! This warning can be ignored when running in bare mode.\n",
      "2025-04-20 12:28:43.830 Thread 'MainThread': missing ScriptRunContext! This warning can be ignored when running in bare mode.\n",
      "2025-04-20 12:28:43.830 Thread 'MainThread': missing ScriptRunContext! This warning can be ignored when running in bare mode.\n",
      "2025-04-20 12:28:43.831 Thread 'MainThread': missing ScriptRunContext! This warning can be ignored when running in bare mode.\n"
     ]
    }
   ],
   "source": [
    "# View previous predictions\n",
    "if st.sidebar.button(\" Show Saved Applications\"):\n",
    "    cursor.execute(\"SELECT * FROM LoanApplications ORDER BY id DESC\")\n",
    "    records = cursor.fetchall()\n",
    "    st.sidebar.write(\"### Saved Applications\")\n",
    "    for record in records:\n",
    "        st.sidebar.write(record)\n",
    "# Sidebar: Export to Excel\n",
    "if st.sidebar.button(\" Export to Excel\"):\n",
    "    df = pd.read_sql_query(\"SELECT * FROM LoanApplications\", conn)\n",
    "    df.to_excel('LoanApplications.xlsx', index=False)\n",
    "    st.sidebar.success(\" Exported to LoanApplications.xlsx\")\n",
    "\n",
    "# Close DB connection on exit\n",
    "conn.close()"
   ]
  },
  {
   "cell_type": "markdown",
   "id": "f454383b-48da-47e1-8fe8-d8a7521701d6",
   "metadata": {},
   "source": [
    "## Run the two lines in Command Prompt to open a webpage"
   ]
  },
  {
   "cell_type": "code",
   "execution_count": null,
   "id": "4f180ace-242f-4c7d-afe1-14b218c82688",
   "metadata": {},
   "outputs": [],
   "source": [
    "#cd /d D:\\loan_approval_pred\n",
    "#streamlit run loan_ui.py\n"
   ]
  }
 ],
 "metadata": {
  "kernelspec": {
   "display_name": "Python 3 (ipykernel)",
   "language": "python",
   "name": "python3"
  },
  "language_info": {
   "codemirror_mode": {
    "name": "ipython",
    "version": 3
   },
   "file_extension": ".py",
   "mimetype": "text/x-python",
   "name": "python",
   "nbconvert_exporter": "python",
   "pygments_lexer": "ipython3",
   "version": "3.13.3"
  }
 },
 "nbformat": 4,
 "nbformat_minor": 5
}
